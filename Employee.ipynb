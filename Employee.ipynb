{
 "cells": [
  {
   "cell_type": "code",
   "execution_count": 14,
   "id": "27a61704",
   "metadata": {},
   "outputs": [],
   "source": [
    "import pandas as pd\n",
    "import numpy as np\n",
    "import seaborn as sns\n",
    "import matplotlib.pyplot as plt"
   ]
  },
  {
   "cell_type": "code",
   "execution_count": null,
   "id": "f66bfbb4",
   "metadata": {},
   "outputs": [
    {
     "data": {
      "application/vnd.microsoft.datawrangler.viewer.v0+json": {
       "columns": [
        {
         "name": "index",
         "rawType": "int64",
         "type": "integer"
        },
        {
         "name": "Education",
         "rawType": "object",
         "type": "string"
        },
        {
         "name": "JoiningYear",
         "rawType": "int64",
         "type": "integer"
        },
        {
         "name": "City",
         "rawType": "object",
         "type": "string"
        },
        {
         "name": "PaymentTier",
         "rawType": "int64",
         "type": "integer"
        },
        {
         "name": "Age",
         "rawType": "int64",
         "type": "integer"
        },
        {
         "name": "Gender",
         "rawType": "object",
         "type": "string"
        },
        {
         "name": "EverBenched",
         "rawType": "object",
         "type": "string"
        },
        {
         "name": "ExperienceInCurrentDomain",
         "rawType": "int64",
         "type": "integer"
        },
        {
         "name": "LeaveOrNot",
         "rawType": "int64",
         "type": "integer"
        }
       ],
       "ref": "c7eb076a-e3e7-40d3-b807-e1aba5143e63",
       "rows": [
        [
         "0",
         "Bachelors",
         "2017",
         "Bangalore",
         "3",
         "34",
         "Male",
         "No",
         "0",
         "0"
        ],
        [
         "1",
         "Bachelors",
         "2013",
         "Pune",
         "1",
         "28",
         "Female",
         "No",
         "3",
         "1"
        ],
        [
         "2",
         "Bachelors",
         "2014",
         "New Delhi",
         "3",
         "38",
         "Female",
         "No",
         "2",
         "0"
        ],
        [
         "3",
         "Masters",
         "2016",
         "Bangalore",
         "3",
         "27",
         "Male",
         "No",
         "5",
         "1"
        ],
        [
         "4",
         "Masters",
         "2017",
         "Pune",
         "3",
         "24",
         "Male",
         "Yes",
         "2",
         "1"
        ],
        [
         "5",
         "Bachelors",
         "2016",
         "Bangalore",
         "3",
         "22",
         "Male",
         "No",
         "0",
         "0"
        ],
        [
         "6",
         "Bachelors",
         "2015",
         "New Delhi",
         "3",
         "38",
         "Male",
         "No",
         "0",
         "0"
        ],
        [
         "7",
         "Bachelors",
         "2016",
         "Bangalore",
         "3",
         "34",
         "Female",
         "No",
         "2",
         "1"
        ],
        [
         "8",
         "Bachelors",
         "2016",
         "Pune",
         "3",
         "23",
         "Male",
         "No",
         "1",
         "0"
        ],
        [
         "9",
         "Masters",
         "2017",
         "New Delhi",
         "2",
         "37",
         "Male",
         "No",
         "2",
         "0"
        ],
        [
         "10",
         "Masters",
         "2012",
         "Bangalore",
         "3",
         "27",
         "Male",
         "No",
         "5",
         "1"
        ],
        [
         "11",
         "Bachelors",
         "2016",
         "Pune",
         "3",
         "34",
         "Male",
         "No",
         "3",
         "0"
        ],
        [
         "12",
         "Bachelors",
         "2018",
         "Pune",
         "3",
         "32",
         "Male",
         "Yes",
         "5",
         "1"
        ],
        [
         "13",
         "Bachelors",
         "2016",
         "Bangalore",
         "3",
         "39",
         "Male",
         "No",
         "2",
         "0"
        ],
        [
         "14",
         "Bachelors",
         "2012",
         "Bangalore",
         "3",
         "37",
         "Male",
         "No",
         "4",
         "0"
        ],
        [
         "15",
         "Bachelors",
         "2017",
         "Bangalore",
         "1",
         "29",
         "Male",
         "No",
         "3",
         "0"
        ],
        [
         "16",
         "Bachelors",
         "2014",
         "Bangalore",
         "3",
         "34",
         "Female",
         "No",
         "2",
         "0"
        ],
        [
         "17",
         "Bachelors",
         "2014",
         "Pune",
         "3",
         "34",
         "Male",
         "No",
         "4",
         "0"
        ],
        [
         "18",
         "Bachelors",
         "2015",
         "Pune",
         "2",
         "30",
         "Female",
         "No",
         "0",
         "1"
        ],
        [
         "19",
         "Bachelors",
         "2016",
         "New Delhi",
         "2",
         "22",
         "Female",
         "No",
         "0",
         "1"
        ],
        [
         "20",
         "Bachelors",
         "2012",
         "Bangalore",
         "3",
         "37",
         "Male",
         "No",
         "0",
         "0"
        ],
        [
         "21",
         "Masters",
         "2017",
         "New Delhi",
         "2",
         "28",
         "Male",
         "No",
         "4",
         "0"
        ],
        [
         "22",
         "Bachelors",
         "2017",
         "New Delhi",
         "2",
         "36",
         "Male",
         "No",
         "3",
         "0"
        ],
        [
         "23",
         "Bachelors",
         "2015",
         "Bangalore",
         "3",
         "27",
         "Male",
         "Yes",
         "5",
         "0"
        ],
        [
         "24",
         "Bachelors",
         "2017",
         "Bangalore",
         "3",
         "29",
         "Male",
         "No",
         "4",
         "0"
        ],
        [
         "25",
         "Bachelors",
         "2013",
         "Bangalore",
         "3",
         "22",
         "Female",
         "Yes",
         "0",
         "0"
        ],
        [
         "26",
         "Bachelors",
         "2016",
         "Bangalore",
         "3",
         "37",
         "Male",
         "No",
         "2",
         "0"
        ],
        [
         "27",
         "Bachelors",
         "2015",
         "Bangalore",
         "3",
         "23",
         "Male",
         "No",
         "1",
         "0"
        ],
        [
         "28",
         "Bachelors",
         "2013",
         "Pune",
         "2",
         "31",
         "Female",
         "No",
         "2",
         "1"
        ],
        [
         "29",
         "Masters",
         "2017",
         "New Delhi",
         "2",
         "30",
         "Female",
         "No",
         "2",
         "0"
        ],
        [
         "30",
         "PHD",
         "2013",
         "New Delhi",
         "3",
         "25",
         "Male",
         "No",
         "3",
         "0"
        ],
        [
         "31",
         "Bachelors",
         "2014",
         "Bangalore",
         "3",
         "23",
         "Male",
         "No",
         "1",
         "0"
        ],
        [
         "32",
         "Bachelors",
         "2018",
         "Bangalore",
         "3",
         "26",
         "Male",
         "No",
         "4",
         "1"
        ],
        [
         "33",
         "Bachelors",
         "2016",
         "Bangalore",
         "3",
         "40",
         "Male",
         "No",
         "5",
         "0"
        ],
        [
         "34",
         "Bachelors",
         "2017",
         "Pune",
         "2",
         "37",
         "Female",
         "No",
         "0",
         "1"
        ],
        [
         "35",
         "Bachelors",
         "2014",
         "Bangalore",
         "1",
         "30",
         "Female",
         "No",
         "3",
         "0"
        ],
        [
         "36",
         "Bachelors",
         "2012",
         "New Delhi",
         "3",
         "29",
         "Male",
         "No",
         "3",
         "0"
        ],
        [
         "37",
         "Bachelors",
         "2018",
         "New Delhi",
         "2",
         "34",
         "Female",
         "No",
         "0",
         "1"
        ],
        [
         "38",
         "Bachelors",
         "2017",
         "Pune",
         "2",
         "29",
         "Female",
         "No",
         "2",
         "1"
        ],
        [
         "39",
         "Bachelors",
         "2014",
         "Pune",
         "3",
         "30",
         "Male",
         "Yes",
         "4",
         "0"
        ],
        [
         "40",
         "Bachelors",
         "2015",
         "Bangalore",
         "3",
         "36",
         "Male",
         "No",
         "1",
         "0"
        ],
        [
         "41",
         "Masters",
         "2017",
         "New Delhi",
         "2",
         "23",
         "Male",
         "No",
         "1",
         "0"
        ],
        [
         "42",
         "Bachelors",
         "2013",
         "Bangalore",
         "3",
         "30",
         "Male",
         "No",
         "3",
         "1"
        ],
        [
         "43",
         "Bachelors",
         "2014",
         "Bangalore",
         "3",
         "36",
         "Male",
         "No",
         "0",
         "0"
        ],
        [
         "44",
         "Bachelors",
         "2015",
         "Pune",
         "3",
         "39",
         "Male",
         "No",
         "4",
         "0"
        ],
        [
         "45",
         "Bachelors",
         "2014",
         "Bangalore",
         "3",
         "23",
         "Female",
         "No",
         "1",
         "0"
        ],
        [
         "46",
         "PHD",
         "2012",
         "New Delhi",
         "3",
         "27",
         "Male",
         "No",
         "5",
         "0"
        ],
        [
         "47",
         "Masters",
         "2013",
         "New Delhi",
         "3",
         "35",
         "Male",
         "No",
         "2",
         "0"
        ],
        [
         "48",
         "Masters",
         "2017",
         "New Delhi",
         "2",
         "34",
         "Male",
         "No",
         "0",
         "0"
        ],
        [
         "49",
         "Bachelors",
         "2013",
         "Bangalore",
         "3",
         "30",
         "Female",
         "No",
         "1",
         "0"
        ]
       ],
       "shape": {
        "columns": 9,
        "rows": 4653
       }
      },
      "text/html": [
       "<div>\n",
       "<style scoped>\n",
       "    .dataframe tbody tr th:only-of-type {\n",
       "        vertical-align: middle;\n",
       "    }\n",
       "\n",
       "    .dataframe tbody tr th {\n",
       "        vertical-align: top;\n",
       "    }\n",
       "\n",
       "    .dataframe thead th {\n",
       "        text-align: right;\n",
       "    }\n",
       "</style>\n",
       "<table border=\"1\" class=\"dataframe\">\n",
       "  <thead>\n",
       "    <tr style=\"text-align: right;\">\n",
       "      <th></th>\n",
       "      <th>Education</th>\n",
       "      <th>JoiningYear</th>\n",
       "      <th>City</th>\n",
       "      <th>PaymentTier</th>\n",
       "      <th>Age</th>\n",
       "      <th>Gender</th>\n",
       "      <th>EverBenched</th>\n",
       "      <th>ExperienceInCurrentDomain</th>\n",
       "      <th>LeaveOrNot</th>\n",
       "    </tr>\n",
       "  </thead>\n",
       "  <tbody>\n",
       "    <tr>\n",
       "      <th>0</th>\n",
       "      <td>Bachelors</td>\n",
       "      <td>2017</td>\n",
       "      <td>Bangalore</td>\n",
       "      <td>3</td>\n",
       "      <td>34</td>\n",
       "      <td>Male</td>\n",
       "      <td>No</td>\n",
       "      <td>0</td>\n",
       "      <td>0</td>\n",
       "    </tr>\n",
       "    <tr>\n",
       "      <th>1</th>\n",
       "      <td>Bachelors</td>\n",
       "      <td>2013</td>\n",
       "      <td>Pune</td>\n",
       "      <td>1</td>\n",
       "      <td>28</td>\n",
       "      <td>Female</td>\n",
       "      <td>No</td>\n",
       "      <td>3</td>\n",
       "      <td>1</td>\n",
       "    </tr>\n",
       "    <tr>\n",
       "      <th>2</th>\n",
       "      <td>Bachelors</td>\n",
       "      <td>2014</td>\n",
       "      <td>New Delhi</td>\n",
       "      <td>3</td>\n",
       "      <td>38</td>\n",
       "      <td>Female</td>\n",
       "      <td>No</td>\n",
       "      <td>2</td>\n",
       "      <td>0</td>\n",
       "    </tr>\n",
       "    <tr>\n",
       "      <th>3</th>\n",
       "      <td>Masters</td>\n",
       "      <td>2016</td>\n",
       "      <td>Bangalore</td>\n",
       "      <td>3</td>\n",
       "      <td>27</td>\n",
       "      <td>Male</td>\n",
       "      <td>No</td>\n",
       "      <td>5</td>\n",
       "      <td>1</td>\n",
       "    </tr>\n",
       "    <tr>\n",
       "      <th>4</th>\n",
       "      <td>Masters</td>\n",
       "      <td>2017</td>\n",
       "      <td>Pune</td>\n",
       "      <td>3</td>\n",
       "      <td>24</td>\n",
       "      <td>Male</td>\n",
       "      <td>Yes</td>\n",
       "      <td>2</td>\n",
       "      <td>1</td>\n",
       "    </tr>\n",
       "    <tr>\n",
       "      <th>...</th>\n",
       "      <td>...</td>\n",
       "      <td>...</td>\n",
       "      <td>...</td>\n",
       "      <td>...</td>\n",
       "      <td>...</td>\n",
       "      <td>...</td>\n",
       "      <td>...</td>\n",
       "      <td>...</td>\n",
       "      <td>...</td>\n",
       "    </tr>\n",
       "    <tr>\n",
       "      <th>4648</th>\n",
       "      <td>Bachelors</td>\n",
       "      <td>2013</td>\n",
       "      <td>Bangalore</td>\n",
       "      <td>3</td>\n",
       "      <td>26</td>\n",
       "      <td>Female</td>\n",
       "      <td>No</td>\n",
       "      <td>4</td>\n",
       "      <td>0</td>\n",
       "    </tr>\n",
       "    <tr>\n",
       "      <th>4649</th>\n",
       "      <td>Masters</td>\n",
       "      <td>2013</td>\n",
       "      <td>Pune</td>\n",
       "      <td>2</td>\n",
       "      <td>37</td>\n",
       "      <td>Male</td>\n",
       "      <td>No</td>\n",
       "      <td>2</td>\n",
       "      <td>1</td>\n",
       "    </tr>\n",
       "    <tr>\n",
       "      <th>4650</th>\n",
       "      <td>Masters</td>\n",
       "      <td>2018</td>\n",
       "      <td>New Delhi</td>\n",
       "      <td>3</td>\n",
       "      <td>27</td>\n",
       "      <td>Male</td>\n",
       "      <td>No</td>\n",
       "      <td>5</td>\n",
       "      <td>1</td>\n",
       "    </tr>\n",
       "    <tr>\n",
       "      <th>4651</th>\n",
       "      <td>Bachelors</td>\n",
       "      <td>2012</td>\n",
       "      <td>Bangalore</td>\n",
       "      <td>3</td>\n",
       "      <td>30</td>\n",
       "      <td>Male</td>\n",
       "      <td>Yes</td>\n",
       "      <td>2</td>\n",
       "      <td>0</td>\n",
       "    </tr>\n",
       "    <tr>\n",
       "      <th>4652</th>\n",
       "      <td>Bachelors</td>\n",
       "      <td>2015</td>\n",
       "      <td>Bangalore</td>\n",
       "      <td>3</td>\n",
       "      <td>33</td>\n",
       "      <td>Male</td>\n",
       "      <td>Yes</td>\n",
       "      <td>4</td>\n",
       "      <td>0</td>\n",
       "    </tr>\n",
       "  </tbody>\n",
       "</table>\n",
       "<p>4653 rows × 9 columns</p>\n",
       "</div>"
      ],
      "text/plain": [
       "      Education  JoiningYear       City  PaymentTier  Age  Gender EverBenched  \\\n",
       "0     Bachelors         2017  Bangalore            3   34    Male          No   \n",
       "1     Bachelors         2013       Pune            1   28  Female          No   \n",
       "2     Bachelors         2014  New Delhi            3   38  Female          No   \n",
       "3       Masters         2016  Bangalore            3   27    Male          No   \n",
       "4       Masters         2017       Pune            3   24    Male         Yes   \n",
       "...         ...          ...        ...          ...  ...     ...         ...   \n",
       "4648  Bachelors         2013  Bangalore            3   26  Female          No   \n",
       "4649    Masters         2013       Pune            2   37    Male          No   \n",
       "4650    Masters         2018  New Delhi            3   27    Male          No   \n",
       "4651  Bachelors         2012  Bangalore            3   30    Male         Yes   \n",
       "4652  Bachelors         2015  Bangalore            3   33    Male         Yes   \n",
       "\n",
       "      ExperienceInCurrentDomain  LeaveOrNot  \n",
       "0                             0           0  \n",
       "1                             3           1  \n",
       "2                             2           0  \n",
       "3                             5           1  \n",
       "4                             2           1  \n",
       "...                         ...         ...  \n",
       "4648                          4           0  \n",
       "4649                          2           1  \n",
       "4650                          5           1  \n",
       "4651                          2           0  \n",
       "4652                          4           0  \n",
       "\n",
       "[4653 rows x 9 columns]"
      ]
     },
     "execution_count": 15,
     "metadata": {},
     "output_type": "execute_result"
    }
   ],
   "source": [
    "#data from kaggle https://www.kaggle.com/code/kareemellithy/employee-data-visualization-svm\n",
    "df = pd.read_csv('/Users/eugeniaportillo/Desktop/Python Projects/Employee Dataset/Employee.csv')\n",
    "df"
   ]
  },
  {
   "cell_type": "code",
   "execution_count": 4,
   "id": "6ec7b984",
   "metadata": {},
   "outputs": [
    {
     "name": "stdout",
     "output_type": "stream",
     "text": [
      "<class 'pandas.core.frame.DataFrame'>\n",
      "RangeIndex: 4653 entries, 0 to 4652\n",
      "Data columns (total 9 columns):\n",
      " #   Column                     Non-Null Count  Dtype \n",
      "---  ------                     --------------  ----- \n",
      " 0   Education                  4653 non-null   object\n",
      " 1   JoiningYear                4653 non-null   int64 \n",
      " 2   City                       4653 non-null   object\n",
      " 3   PaymentTier                4653 non-null   int64 \n",
      " 4   Age                        4653 non-null   int64 \n",
      " 5   Gender                     4653 non-null   object\n",
      " 6   EverBenched                4653 non-null   object\n",
      " 7   ExperienceInCurrentDomain  4653 non-null   int64 \n",
      " 8   LeaveOrNot                 4653 non-null   int64 \n",
      "dtypes: int64(5), object(4)\n",
      "memory usage: 327.3+ KB\n"
     ]
    }
   ],
   "source": [
    "df.info()"
   ]
  },
  {
   "cell_type": "code",
   "execution_count": 6,
   "id": "1c3f543a",
   "metadata": {},
   "outputs": [
    {
     "data": {
      "application/vnd.microsoft.datawrangler.viewer.v0+json": {
       "columns": [
        {
         "name": "index",
         "rawType": "object",
         "type": "string"
        },
        {
         "name": "0",
         "rawType": "int64",
         "type": "integer"
        }
       ],
       "ref": "7b2e6e89-69f6-4637-9595-05953e54013d",
       "rows": [
        [
         "Education",
         "0"
        ],
        [
         "JoiningYear",
         "0"
        ],
        [
         "City",
         "0"
        ],
        [
         "PaymentTier",
         "0"
        ],
        [
         "Age",
         "0"
        ],
        [
         "Gender",
         "0"
        ],
        [
         "EverBenched",
         "0"
        ],
        [
         "ExperienceInCurrentDomain",
         "0"
        ],
        [
         "LeaveOrNot",
         "0"
        ]
       ],
       "shape": {
        "columns": 1,
        "rows": 9
       }
      },
      "text/plain": [
       "Education                    0\n",
       "JoiningYear                  0\n",
       "City                         0\n",
       "PaymentTier                  0\n",
       "Age                          0\n",
       "Gender                       0\n",
       "EverBenched                  0\n",
       "ExperienceInCurrentDomain    0\n",
       "LeaveOrNot                   0\n",
       "dtype: int64"
      ]
     },
     "execution_count": 6,
     "metadata": {},
     "output_type": "execute_result"
    }
   ],
   "source": [
    "df.isnull().sum()"
   ]
  },
  {
   "cell_type": "code",
   "execution_count": 16,
   "id": "1951291e",
   "metadata": {},
   "outputs": [
    {
     "data": {
      "text/plain": [
       "<bound method DataFrame.nunique of       Education  JoiningYear       City  PaymentTier  Age  Gender EverBenched  \\\n",
       "0     Bachelors         2017  Bangalore            3   34    Male          No   \n",
       "1     Bachelors         2013       Pune            1   28  Female          No   \n",
       "2     Bachelors         2014  New Delhi            3   38  Female          No   \n",
       "3       Masters         2016  Bangalore            3   27    Male          No   \n",
       "4       Masters         2017       Pune            3   24    Male         Yes   \n",
       "...         ...          ...        ...          ...  ...     ...         ...   \n",
       "4648  Bachelors         2013  Bangalore            3   26  Female          No   \n",
       "4649    Masters         2013       Pune            2   37    Male          No   \n",
       "4650    Masters         2018  New Delhi            3   27    Male          No   \n",
       "4651  Bachelors         2012  Bangalore            3   30    Male         Yes   \n",
       "4652  Bachelors         2015  Bangalore            3   33    Male         Yes   \n",
       "\n",
       "      ExperienceInCurrentDomain  LeaveOrNot  \n",
       "0                             0           0  \n",
       "1                             3           1  \n",
       "2                             2           0  \n",
       "3                             5           1  \n",
       "4                             2           1  \n",
       "...                         ...         ...  \n",
       "4648                          4           0  \n",
       "4649                          2           1  \n",
       "4650                          5           1  \n",
       "4651                          2           0  \n",
       "4652                          4           0  \n",
       "\n",
       "[4653 rows x 9 columns]>"
      ]
     },
     "execution_count": 16,
     "metadata": {},
     "output_type": "execute_result"
    }
   ],
   "source": [
    "df.nunique"
   ]
  },
  {
   "cell_type": "code",
   "execution_count": 18,
   "id": "db7b4774",
   "metadata": {},
   "outputs": [
    {
     "data": {
      "text/plain": [
       "np.int64(1889)"
      ]
     },
     "execution_count": 18,
     "metadata": {},
     "output_type": "execute_result"
    }
   ],
   "source": [
    "df.duplicated().sum()"
   ]
  },
  {
   "cell_type": "code",
   "execution_count": 19,
   "id": "db1248d4",
   "metadata": {},
   "outputs": [
    {
     "data": {
      "text/plain": [
       "(2764, 9)"
      ]
     },
     "execution_count": 19,
     "metadata": {},
     "output_type": "execute_result"
    }
   ],
   "source": [
    "df = df.drop_duplicates()\n",
    "df.shape"
   ]
  },
  {
   "cell_type": "code",
   "execution_count": 20,
   "id": "de40d4fd",
   "metadata": {},
   "outputs": [
    {
     "data": {
      "application/vnd.microsoft.datawrangler.viewer.v0+json": {
       "columns": [
        {
         "name": "Education",
         "rawType": "object",
         "type": "string"
        },
        {
         "name": "count",
         "rawType": "int64",
         "type": "integer"
        }
       ],
       "ref": "d13bc4fa-1a3d-454c-9d5e-f8528940be00",
       "rows": [
        [
         "Bachelors",
         "1971"
        ],
        [
         "Masters",
         "637"
        ],
        [
         "PHD",
         "156"
        ]
       ],
       "shape": {
        "columns": 1,
        "rows": 3
       }
      },
      "text/plain": [
       "Education\n",
       "Bachelors    1971\n",
       "Masters       637\n",
       "PHD           156\n",
       "Name: count, dtype: int64"
      ]
     },
     "execution_count": 20,
     "metadata": {},
     "output_type": "execute_result"
    }
   ],
   "source": [
    "df.Education.value_counts()"
   ]
  },
  {
   "cell_type": "code",
   "execution_count": 22,
   "id": "4fbe28e4",
   "metadata": {},
   "outputs": [
    {
     "data": {
      "image/png": "[encoded data removed]",
      "text/plain": [
       "<Figure size 600x800 with 1 Axes>"
      ]
     },
     "metadata": {},
     "output_type": "display_data"
    }
   ],
   "source": [
    "edu_count = df.Education.value_counts()\n",
    "plt.figure(figsize=(6,8))\n",
    "plt.pie(edu_count, labels=edu_count.index, autopct='%1.1f%%', startangle=100)\n",
    "plt.show()"
   ]
  },
  {
   "cell_type": "code",
   "execution_count": 24,
   "id": "3af13e32",
   "metadata": {},
   "outputs": [
    {
     "data": {
      "application/vnd.microsoft.datawrangler.viewer.v0+json": {
       "columns": [
        {
         "name": "JoiningYear",
         "rawType": "int64",
         "type": "integer"
        },
        {
         "name": "count",
         "rawType": "int64",
         "type": "integer"
        }
       ],
       "ref": "13c87db2-eed1-420d-b0af-28225382f151",
       "rows": [
        [
         "2017",
         "662"
        ],
        [
         "2015",
         "464"
        ],
        [
         "2013",
         "396"
        ],
        [
         "2014",
         "385"
        ],
        [
         "2016",
         "310"
        ],
        [
         "2012",
         "308"
        ],
        [
         "2018",
         "239"
        ]
       ],
       "shape": {
        "columns": 1,
        "rows": 7
       }
      },
      "text/plain": [
       "JoiningYear\n",
       "2017    662\n",
       "2015    464\n",
       "2013    396\n",
       "2014    385\n",
       "2016    310\n",
       "2012    308\n",
       "2018    239\n",
       "Name: count, dtype: int64"
      ]
     },
     "execution_count": 24,
     "metadata": {},
     "output_type": "execute_result"
    }
   ],
   "source": [
    "df.JoiningYear.value_counts()"
   ]
  },
  {
   "cell_type": "code",
   "execution_count": 25,
   "id": "2b09670a",
   "metadata": {},
   "outputs": [
    {
     "data": {
      "text/plain": [
       "<Axes: xlabel='JoiningYear', ylabel='count'>"
      ]
     },
     "execution_count": 25,
     "metadata": {},
     "output_type": "execute_result"
    },
    {
     "data": {
      "image/png": "[encoded data removed]",
      "text/plain": [
       "<Figure size 640x480 with 1 Axes>"
      ]
     },
     "metadata": {},
     "output_type": "display_data"
    }
   ],
   "source": [
    "sns.countplot(data=df, x='JoiningYear')"
   ]
  },
  {
   "cell_type": "code",
   "execution_count": 26,
   "id": "fa44eaa1",
   "metadata": {},
   "outputs": [
    {
     "data": {
      "application/vnd.microsoft.datawrangler.viewer.v0+json": {
       "columns": [
        {
         "name": "JoiningYear",
         "rawType": "int64",
         "type": "integer"
        },
        {
         "name": "Bangalore",
         "rawType": "float64",
         "type": "float"
        },
        {
         "name": "New Delhi",
         "rawType": "float64",
         "type": "float"
        },
        {
         "name": "Pune",
         "rawType": "float64",
         "type": "float"
        }
       ],
       "ref": "d4ecbeb1-a7ac-46e6-93e0-d20977b82bba",
       "rows": [
        [
         "2012",
         "31.0",
         "28.0",
         "29.0"
        ],
        [
         "2013",
         "30.0",
         "28.0",
         "29.0"
        ],
        [
         "2014",
         "31.0",
         "28.0",
         "30.0"
        ],
        [
         "2015",
         "31.0",
         "28.0",
         "30.0"
        ],
        [
         "2016",
         "31.0",
         "28.0",
         "29.0"
        ],
        [
         "2017",
         "30.0",
         "30.0",
         "30.0"
        ],
        [
         "2018",
         "31.0",
         "29.0",
         "29.0"
        ]
       ],
       "shape": {
        "columns": 3,
        "rows": 7
       }
      },
      "text/html": [
       "<div>\n",
       "<style scoped>\n",
       "    .dataframe tbody tr th:only-of-type {\n",
       "        vertical-align: middle;\n",
       "    }\n",
       "\n",
       "    .dataframe tbody tr th {\n",
       "        vertical-align: top;\n",
       "    }\n",
       "\n",
       "    .dataframe thead th {\n",
       "        text-align: right;\n",
       "    }\n",
       "</style>\n",
       "<table border=\"1\" class=\"dataframe\">\n",
       "  <thead>\n",
       "    <tr style=\"text-align: right;\">\n",
       "      <th>City</th>\n",
       "      <th>Bangalore</th>\n",
       "      <th>New Delhi</th>\n",
       "      <th>Pune</th>\n",
       "    </tr>\n",
       "    <tr>\n",
       "      <th>JoiningYear</th>\n",
       "      <th></th>\n",
       "      <th></th>\n",
       "      <th></th>\n",
       "    </tr>\n",
       "  </thead>\n",
       "  <tbody>\n",
       "    <tr>\n",
       "      <th>2012</th>\n",
       "      <td>31.0</td>\n",
       "      <td>28.0</td>\n",
       "      <td>29.0</td>\n",
       "    </tr>\n",
       "    <tr>\n",
       "      <th>2013</th>\n",
       "      <td>30.0</td>\n",
       "      <td>28.0</td>\n",
       "      <td>29.0</td>\n",
       "    </tr>\n",
       "    <tr>\n",
       "      <th>2014</th>\n",
       "      <td>31.0</td>\n",
       "      <td>28.0</td>\n",
       "      <td>30.0</td>\n",
       "    </tr>\n",
       "    <tr>\n",
       "      <th>2015</th>\n",
       "      <td>31.0</td>\n",
       "      <td>28.0</td>\n",
       "      <td>30.0</td>\n",
       "    </tr>\n",
       "    <tr>\n",
       "      <th>2016</th>\n",
       "      <td>31.0</td>\n",
       "      <td>28.0</td>\n",
       "      <td>29.0</td>\n",
       "    </tr>\n",
       "    <tr>\n",
       "      <th>2017</th>\n",
       "      <td>30.0</td>\n",
       "      <td>30.0</td>\n",
       "      <td>30.0</td>\n",
       "    </tr>\n",
       "    <tr>\n",
       "      <th>2018</th>\n",
       "      <td>31.0</td>\n",
       "      <td>29.0</td>\n",
       "      <td>29.0</td>\n",
       "    </tr>\n",
       "  </tbody>\n",
       "</table>\n",
       "</div>"
      ],
      "text/plain": [
       "City         Bangalore  New Delhi  Pune\n",
       "JoiningYear                            \n",
       "2012              31.0       28.0  29.0\n",
       "2013              30.0       28.0  29.0\n",
       "2014              31.0       28.0  30.0\n",
       "2015              31.0       28.0  30.0\n",
       "2016              31.0       28.0  29.0\n",
       "2017              30.0       30.0  30.0\n",
       "2018              31.0       29.0  29.0"
      ]
     },
     "execution_count": 26,
     "metadata": {},
     "output_type": "execute_result"
    }
   ],
   "source": [
    "pd.crosstab(df.JoiningYear, df.City, values=df.Age, aggfunc='median')"
   ]
  },
  {
   "cell_type": "code",
   "execution_count": 28,
   "id": "96f0a82c",
   "metadata": {},
   "outputs": [
    {
     "data": {
      "image/png": "[encoded data removed]",
      "text/plain": [
       "<Figure size 1000x600 with 1 Axes>"
      ]
     },
     "metadata": {},
     "output_type": "display_data"
    }
   ],
   "source": [
    "city_joinyear = df.groupby(['JoiningYear', 'City']).size().unstack()\n",
    "ax = city_joinyear.plot(kind='bar', stacked=True, figsize=(10,6))\n",
    "\n",
    "plt.xlabel('JoiningYear')\n",
    "plt.ylabel('Number of Employees')\n",
    "plt.title('Distribution of Employees by Joining Year and City')\n",
    "\n",
    "plt.legend(title='City', loc='upper left')\n",
    "plt.show()"
   ]
  },
  {
   "cell_type": "code",
   "execution_count": 29,
   "id": "fc9ce6e0",
   "metadata": {},
   "outputs": [
    {
     "data": {
      "application/vnd.microsoft.datawrangler.viewer.v0+json": {
       "columns": [
        {
         "name": "Gender",
         "rawType": "object",
         "type": "string"
        },
        {
         "name": "Bachelors",
         "rawType": "int64",
         "type": "integer"
        },
        {
         "name": "Masters",
         "rawType": "int64",
         "type": "integer"
        },
        {
         "name": "PHD",
         "rawType": "int64",
         "type": "integer"
        }
       ],
       "ref": "5405ffda-bb5c-4b7d-a9d2-664ac1c20fc2",
       "rows": [
        [
         "Female",
         "894",
         "278",
         "63"
        ],
        [
         "Male",
         "1077",
         "359",
         "93"
        ]
       ],
       "shape": {
        "columns": 3,
        "rows": 2
       }
      },
      "text/html": [
       "<div>\n",
       "<style scoped>\n",
       "    .dataframe tbody tr th:only-of-type {\n",
       "        vertical-align: middle;\n",
       "    }\n",
       "\n",
       "    .dataframe tbody tr th {\n",
       "        vertical-align: top;\n",
       "    }\n",
       "\n",
       "    .dataframe thead th {\n",
       "        text-align: right;\n",
       "    }\n",
       "</style>\n",
       "<table border=\"1\" class=\"dataframe\">\n",
       "  <thead>\n",
       "    <tr style=\"text-align: right;\">\n",
       "      <th>Education</th>\n",
       "      <th>Bachelors</th>\n",
       "      <th>Masters</th>\n",
       "      <th>PHD</th>\n",
       "    </tr>\n",
       "    <tr>\n",
       "      <th>Gender</th>\n",
       "      <th></th>\n",
       "      <th></th>\n",
       "      <th></th>\n",
       "    </tr>\n",
       "  </thead>\n",
       "  <tbody>\n",
       "    <tr>\n",
       "      <th>Female</th>\n",
       "      <td>894</td>\n",
       "      <td>278</td>\n",
       "      <td>63</td>\n",
       "    </tr>\n",
       "    <tr>\n",
       "      <th>Male</th>\n",
       "      <td>1077</td>\n",
       "      <td>359</td>\n",
       "      <td>93</td>\n",
       "    </tr>\n",
       "  </tbody>\n",
       "</table>\n",
       "</div>"
      ],
      "text/plain": [
       "Education  Bachelors  Masters  PHD\n",
       "Gender                            \n",
       "Female           894      278   63\n",
       "Male            1077      359   93"
      ]
     },
     "execution_count": 29,
     "metadata": {},
     "output_type": "execute_result"
    }
   ],
   "source": [
    "pd.crosstab(df.Gender, df.Education)"
   ]
  },
  {
   "cell_type": "code",
   "execution_count": 32,
   "id": "d921c16d",
   "metadata": {},
   "outputs": [
    {
     "data": {
      "application/vnd.microsoft.datawrangler.viewer.v0+json": {
       "columns": [
        {
         "name": "index",
         "rawType": "int64",
         "type": "integer"
        },
        {
         "name": "('Gender', '')",
         "rawType": "object",
         "type": "string"
        },
        {
         "name": "('median', 'Bachelors')",
         "rawType": "float64",
         "type": "float"
        },
        {
         "name": "('median', 'Masters')",
         "rawType": "float64",
         "type": "float"
        },
        {
         "name": "('median', 'PHD')",
         "rawType": "float64",
         "type": "float"
        },
        {
         "name": "('min', 'Bachelors')",
         "rawType": "int64",
         "type": "integer"
        },
        {
         "name": "('min', 'Masters')",
         "rawType": "int64",
         "type": "integer"
        },
        {
         "name": "('min', 'PHD')",
         "rawType": "int64",
         "type": "integer"
        },
        {
         "name": "('max', 'Bachelors')",
         "rawType": "int64",
         "type": "integer"
        },
        {
         "name": "('max', 'Masters')",
         "rawType": "int64",
         "type": "integer"
        },
        {
         "name": "('max', 'PHD')",
         "rawType": "int64",
         "type": "integer"
        }
       ],
       "ref": "731367c3-bd34-4abc-838f-e3da2e823dbd",
       "rows": [
        [
         "0",
         "Female",
         "30.0",
         "28.0",
         "29.0",
         "22",
         "22",
         "22",
         "41",
         "41",
         "40"
        ],
        [
         "1",
         "Male",
         "31.0",
         "28.0",
         "28.0",
         "22",
         "22",
         "22",
         "41",
         "41",
         "41"
        ]
       ],
       "shape": {
        "columns": 10,
        "rows": 2
       }
      },
      "text/html": [
       "<div>\n",
       "<style scoped>\n",
       "    .dataframe tbody tr th:only-of-type {\n",
       "        vertical-align: middle;\n",
       "    }\n",
       "\n",
       "    .dataframe tbody tr th {\n",
       "        vertical-align: top;\n",
       "    }\n",
       "\n",
       "    .dataframe thead tr th {\n",
       "        text-align: left;\n",
       "    }\n",
       "</style>\n",
       "<table border=\"1\" class=\"dataframe\">\n",
       "  <thead>\n",
       "    <tr>\n",
       "      <th></th>\n",
       "      <th>Gender</th>\n",
       "      <th colspan=\"3\" halign=\"left\">median</th>\n",
       "      <th colspan=\"3\" halign=\"left\">min</th>\n",
       "      <th colspan=\"3\" halign=\"left\">max</th>\n",
       "    </tr>\n",
       "    <tr>\n",
       "      <th>Education</th>\n",
       "      <th></th>\n",
       "      <th>Bachelors</th>\n",
       "      <th>Masters</th>\n",
       "      <th>PHD</th>\n",
       "      <th>Bachelors</th>\n",
       "      <th>Masters</th>\n",
       "      <th>PHD</th>\n",
       "      <th>Bachelors</th>\n",
       "      <th>Masters</th>\n",
       "      <th>PHD</th>\n",
       "    </tr>\n",
       "  </thead>\n",
       "  <tbody>\n",
       "    <tr>\n",
       "      <th>0</th>\n",
       "      <td>Female</td>\n",
       "      <td>30.0</td>\n",
       "      <td>28.0</td>\n",
       "      <td>29.0</td>\n",
       "      <td>22</td>\n",
       "      <td>22</td>\n",
       "      <td>22</td>\n",
       "      <td>41</td>\n",
       "      <td>41</td>\n",
       "      <td>40</td>\n",
       "    </tr>\n",
       "    <tr>\n",
       "      <th>1</th>\n",
       "      <td>Male</td>\n",
       "      <td>31.0</td>\n",
       "      <td>28.0</td>\n",
       "      <td>28.0</td>\n",
       "      <td>22</td>\n",
       "      <td>22</td>\n",
       "      <td>22</td>\n",
       "      <td>41</td>\n",
       "      <td>41</td>\n",
       "      <td>41</td>\n",
       "    </tr>\n",
       "  </tbody>\n",
       "</table>\n",
       "</div>"
      ],
      "text/plain": [
       "           Gender    median                     min                   max  \\\n",
       "Education         Bachelors Masters   PHD Bachelors Masters PHD Bachelors   \n",
       "0          Female      30.0    28.0  29.0        22      22  22        41   \n",
       "1            Male      31.0    28.0  28.0        22      22  22        41   \n",
       "\n",
       "                       \n",
       "Education Masters PHD  \n",
       "0              41  40  \n",
       "1              41  41  "
      ]
     },
     "execution_count": 32,
     "metadata": {},
     "output_type": "execute_result"
    }
   ],
   "source": [
    "pivot_table = pd.crosstab(df['Gender'], df['Education'], values=df['Age'], aggfunc=['median', 'min', 'max'])\n",
    "\n",
    "pivot_table = pivot_table.reset_index()\n",
    "pivot_table"
   ]
  },
  {
   "cell_type": "code",
   "execution_count": 33,
   "id": "ef25e06d",
   "metadata": {},
   "outputs": [
    {
     "data": {
      "text/plain": [
       "<Axes: xlabel='Education', ylabel='count'>"
      ]
     },
     "execution_count": 33,
     "metadata": {},
     "output_type": "execute_result"
    },
    {
     "data": {
      "image/png": "[encoded data removed]",
      "text/plain": [
       "<Figure size 640x480 with 1 Axes>"
      ]
     },
     "metadata": {},
     "output_type": "display_data"
    }
   ],
   "source": [
    "sns.countplot(data=df, x=df.Education, hue='Gender')"
   ]
  },
  {
   "cell_type": "code",
   "execution_count": 34,
   "id": "163c6769",
   "metadata": {},
   "outputs": [
    {
     "data": {
      "application/vnd.microsoft.datawrangler.viewer.v0+json": {
       "columns": [
        {
         "name": "PaymentTier",
         "rawType": "int64",
         "type": "integer"
        },
        {
         "name": "Female",
         "rawType": "int64",
         "type": "integer"
        },
        {
         "name": "Male",
         "rawType": "int64",
         "type": "integer"
        }
       ],
       "ref": "919b1bfe-20dd-4d3f-a56b-1fcd114f117a",
       "rows": [
        [
         "1",
         "115",
         "103"
        ],
        [
         "2",
         "367",
         "203"
        ],
        [
         "3",
         "753",
         "1223"
        ]
       ],
       "shape": {
        "columns": 2,
        "rows": 3
       }
      },
      "text/html": [
       "<div>\n",
       "<style scoped>\n",
       "    .dataframe tbody tr th:only-of-type {\n",
       "        vertical-align: middle;\n",
       "    }\n",
       "\n",
       "    .dataframe tbody tr th {\n",
       "        vertical-align: top;\n",
       "    }\n",
       "\n",
       "    .dataframe thead th {\n",
       "        text-align: right;\n",
       "    }\n",
       "</style>\n",
       "<table border=\"1\" class=\"dataframe\">\n",
       "  <thead>\n",
       "    <tr style=\"text-align: right;\">\n",
       "      <th>Gender</th>\n",
       "      <th>Female</th>\n",
       "      <th>Male</th>\n",
       "    </tr>\n",
       "    <tr>\n",
       "      <th>PaymentTier</th>\n",
       "      <th></th>\n",
       "      <th></th>\n",
       "    </tr>\n",
       "  </thead>\n",
       "  <tbody>\n",
       "    <tr>\n",
       "      <th>1</th>\n",
       "      <td>115</td>\n",
       "      <td>103</td>\n",
       "    </tr>\n",
       "    <tr>\n",
       "      <th>2</th>\n",
       "      <td>367</td>\n",
       "      <td>203</td>\n",
       "    </tr>\n",
       "    <tr>\n",
       "      <th>3</th>\n",
       "      <td>753</td>\n",
       "      <td>1223</td>\n",
       "    </tr>\n",
       "  </tbody>\n",
       "</table>\n",
       "</div>"
      ],
      "text/plain": [
       "Gender       Female  Male\n",
       "PaymentTier              \n",
       "1               115   103\n",
       "2               367   203\n",
       "3               753  1223"
      ]
     },
     "execution_count": 34,
     "metadata": {},
     "output_type": "execute_result"
    }
   ],
   "source": [
    "pd.crosstab(df.PaymentTier, df.Gender)"
   ]
  },
  {
   "cell_type": "code",
   "execution_count": 35,
   "id": "0e2b21d5",
   "metadata": {},
   "outputs": [
    {
     "data": {
      "text/plain": [
       "<seaborn.axisgrid.FacetGrid at 0x1207f4940>"
      ]
     },
     "execution_count": 35,
     "metadata": {},
     "output_type": "execute_result"
    },
    {
     "data": {
      "image/png": "[encoded data removed]",
      "text/plain": [
       "<Figure size 500x500 with 1 Axes>"
      ]
     },
     "metadata": {},
     "output_type": "display_data"
    }
   ],
   "source": [
    "sns.displot(df['PaymentTier'])"
   ]
  },
  {
   "cell_type": "code",
   "execution_count": 36,
   "id": "6f7cafc1",
   "metadata": {},
   "outputs": [
    {
     "data": {
      "image/png": "[encoded data removed]",
      "text/plain": [
       "<Figure size 1000x600 with 2 Axes>"
      ]
     },
     "metadata": {},
     "output_type": "display_data"
    }
   ],
   "source": [
    "x=pd.crosstab([df.Gender,df.PaymentTier],df.JoiningYear)\n",
    "plt.figure(figsize=(10, 6))\n",
    "sns.heatmap(x, annot=True, fmt='d', cmap='YlGnBu')\n",
    "plt.xlabel('Joining Year')\n",
    "plt.ylabel('Gender and Payment Tier')\n",
    "plt.title('Crosstab: Gender and Payment Tier vs. Joining Year')\n",
    "plt.show()"
   ]
  },
  {
   "cell_type": "code",
   "execution_count": 37,
   "id": "d91ad8e8",
   "metadata": {},
   "outputs": [
    {
     "data": {
      "application/vnd.microsoft.datawrangler.viewer.v0+json": {
       "columns": [
        {
         "name": "EverBenched",
         "rawType": "object",
         "type": "string"
        },
        {
         "name": "count",
         "rawType": "int64",
         "type": "integer"
        }
       ],
       "ref": "c1ed34ce-d0f9-4dee-b4c2-811066067e5e",
       "rows": [
        [
         "No",
         "2403"
        ],
        [
         "Yes",
         "361"
        ]
       ],
       "shape": {
        "columns": 1,
        "rows": 2
       }
      },
      "text/plain": [
       "EverBenched\n",
       "No     2403\n",
       "Yes     361\n",
       "Name: count, dtype: int64"
      ]
     },
     "execution_count": 37,
     "metadata": {},
     "output_type": "execute_result"
    }
   ],
   "source": [
    "\n",
    "df.EverBenched.value_counts()"
   ]
  },
  {
   "cell_type": "code",
   "execution_count": 38,
   "id": "3d9e6792",
   "metadata": {},
   "outputs": [
    {
     "data": {
      "application/vnd.microsoft.datawrangler.viewer.v0+json": {
       "columns": [
        {
         "name": "Gender",
         "rawType": "object",
         "type": "string"
        },
        {
         "name": "No",
         "rawType": "int64",
         "type": "integer"
        },
        {
         "name": "Yes",
         "rawType": "int64",
         "type": "integer"
        }
       ],
       "ref": "8eabc37e-c232-4eae-b171-da5c20a361b4",
       "rows": [
        [
         "Female",
         "1098",
         "137"
        ],
        [
         "Male",
         "1305",
         "224"
        ]
       ],
       "shape": {
        "columns": 2,
        "rows": 2
       }
      },
      "text/html": [
       "<div>\n",
       "<style scoped>\n",
       "    .dataframe tbody tr th:only-of-type {\n",
       "        vertical-align: middle;\n",
       "    }\n",
       "\n",
       "    .dataframe tbody tr th {\n",
       "        vertical-align: top;\n",
       "    }\n",
       "\n",
       "    .dataframe thead th {\n",
       "        text-align: right;\n",
       "    }\n",
       "</style>\n",
       "<table border=\"1\" class=\"dataframe\">\n",
       "  <thead>\n",
       "    <tr style=\"text-align: right;\">\n",
       "      <th>EverBenched</th>\n",
       "      <th>No</th>\n",
       "      <th>Yes</th>\n",
       "    </tr>\n",
       "    <tr>\n",
       "      <th>Gender</th>\n",
       "      <th></th>\n",
       "      <th></th>\n",
       "    </tr>\n",
       "  </thead>\n",
       "  <tbody>\n",
       "    <tr>\n",
       "      <th>Female</th>\n",
       "      <td>1098</td>\n",
       "      <td>137</td>\n",
       "    </tr>\n",
       "    <tr>\n",
       "      <th>Male</th>\n",
       "      <td>1305</td>\n",
       "      <td>224</td>\n",
       "    </tr>\n",
       "  </tbody>\n",
       "</table>\n",
       "</div>"
      ],
      "text/plain": [
       "EverBenched    No  Yes\n",
       "Gender                \n",
       "Female       1098  137\n",
       "Male         1305  224"
      ]
     },
     "execution_count": 38,
     "metadata": {},
     "output_type": "execute_result"
    }
   ],
   "source": [
    "pd.crosstab(df.Gender,df.EverBenched)"
   ]
  },
  {
   "cell_type": "code",
   "execution_count": 39,
   "id": "0f936506",
   "metadata": {},
   "outputs": [
    {
     "data": {
      "text/plain": [
       "<Axes: xlabel='EverBenched', ylabel='count'>"
      ]
     },
     "execution_count": 39,
     "metadata": {},
     "output_type": "execute_result"
    },
    {
     "data": {
      "image/png": "[encoded data removed]",
      "text/plain": [
       "<Figure size 640x480 with 1 Axes>"
      ]
     },
     "metadata": {},
     "output_type": "display_data"
    }
   ],
   "source": [
    "sns.countplot(data=df,x='EverBenched',hue='Gender')"
   ]
  },
  {
   "cell_type": "code",
   "execution_count": 40,
   "id": "7680a7b6",
   "metadata": {},
   "outputs": [
    {
     "data": {
      "text/plain": [
       "<Figure size 1200x800 with 0 Axes>"
      ]
     },
     "metadata": {},
     "output_type": "display_data"
    },
    {
     "data": {
      "image/png": "[encoded data removed]",
      "text/plain": [
       "<Figure size 640x480 with 1 Axes>"
      ]
     },
     "metadata": {},
     "output_type": "display_data"
    }
   ],
   "source": [
    "\n",
    "x = pd.crosstab([df['Gender'], df['Education']], df['EverBenched'])\n",
    "\n",
    "plt.figure(figsize=(12, 8))\n",
    "\n",
    "x.plot(kind='bar', stacked=True)\n",
    "plt.title('Stacked Bar Plot of Gender, Education, and EverBenched')\n",
    "plt.xlabel('Gender, Education')\n",
    "plt.ylabel('Count')\n",
    "\n",
    "# Show the plot\n",
    "plt.show()\n"
   ]
  },
  {
   "cell_type": "code",
   "execution_count": 41,
   "id": "e64d633b",
   "metadata": {},
   "outputs": [
    {
     "data": {
      "application/vnd.microsoft.datawrangler.viewer.v0+json": {
       "columns": [
        {
         "name": "ExperienceInCurrentDomain",
         "rawType": "int64",
         "type": "integer"
        },
        {
         "name": "Female",
         "rawType": "int64",
         "type": "integer"
        },
        {
         "name": "Male",
         "rawType": "int64",
         "type": "integer"
        }
       ],
       "ref": "d7c902f0-c5ff-484c-80f6-0ef90cf7ada1",
       "rows": [
        [
         "0",
         "119",
         "168"
        ],
        [
         "1",
         "192",
         "241"
        ],
        [
         "2",
         "302",
         "379"
        ],
        [
         "3",
         "202",
         "249"
        ],
        [
         "4",
         "204",
         "221"
        ],
        [
         "5",
         "210",
         "260"
        ],
        [
         "6",
         "2",
         "6"
        ],
        [
         "7",
         "4",
         "5"
        ]
       ],
       "shape": {
        "columns": 2,
        "rows": 8
       }
      },
      "text/html": [
       "<div>\n",
       "<style scoped>\n",
       "    .dataframe tbody tr th:only-of-type {\n",
       "        vertical-align: middle;\n",
       "    }\n",
       "\n",
       "    .dataframe tbody tr th {\n",
       "        vertical-align: top;\n",
       "    }\n",
       "\n",
       "    .dataframe thead th {\n",
       "        text-align: right;\n",
       "    }\n",
       "</style>\n",
       "<table border=\"1\" class=\"dataframe\">\n",
       "  <thead>\n",
       "    <tr style=\"text-align: right;\">\n",
       "      <th>Gender</th>\n",
       "      <th>Female</th>\n",
       "      <th>Male</th>\n",
       "    </tr>\n",
       "    <tr>\n",
       "      <th>ExperienceInCurrentDomain</th>\n",
       "      <th></th>\n",
       "      <th></th>\n",
       "    </tr>\n",
       "  </thead>\n",
       "  <tbody>\n",
       "    <tr>\n",
       "      <th>0</th>\n",
       "      <td>119</td>\n",
       "      <td>168</td>\n",
       "    </tr>\n",
       "    <tr>\n",
       "      <th>1</th>\n",
       "      <td>192</td>\n",
       "      <td>241</td>\n",
       "    </tr>\n",
       "    <tr>\n",
       "      <th>2</th>\n",
       "      <td>302</td>\n",
       "      <td>379</td>\n",
       "    </tr>\n",
       "    <tr>\n",
       "      <th>3</th>\n",
       "      <td>202</td>\n",
       "      <td>249</td>\n",
       "    </tr>\n",
       "    <tr>\n",
       "      <th>4</th>\n",
       "      <td>204</td>\n",
       "      <td>221</td>\n",
       "    </tr>\n",
       "    <tr>\n",
       "      <th>5</th>\n",
       "      <td>210</td>\n",
       "      <td>260</td>\n",
       "    </tr>\n",
       "    <tr>\n",
       "      <th>6</th>\n",
       "      <td>2</td>\n",
       "      <td>6</td>\n",
       "    </tr>\n",
       "    <tr>\n",
       "      <th>7</th>\n",
       "      <td>4</td>\n",
       "      <td>5</td>\n",
       "    </tr>\n",
       "  </tbody>\n",
       "</table>\n",
       "</div>"
      ],
      "text/plain": [
       "Gender                     Female  Male\n",
       "ExperienceInCurrentDomain              \n",
       "0                             119   168\n",
       "1                             192   241\n",
       "2                             302   379\n",
       "3                             202   249\n",
       "4                             204   221\n",
       "5                             210   260\n",
       "6                               2     6\n",
       "7                               4     5"
      ]
     },
     "execution_count": 41,
     "metadata": {},
     "output_type": "execute_result"
    }
   ],
   "source": [
    "pd.crosstab(df.ExperienceInCurrentDomain,df.Gender)"
   ]
  },
  {
   "cell_type": "code",
   "execution_count": 42,
   "id": "44648845",
   "metadata": {},
   "outputs": [
    {
     "data": {
      "text/plain": [
       "<Axes: xlabel='ExperienceInCurrentDomain', ylabel='count'>"
      ]
     },
     "execution_count": 42,
     "metadata": {},
     "output_type": "execute_result"
    },
    {
     "data": {
      "image/png": "[encoded data removed]",
      "text/plain": [
       "<Figure size 640x480 with 1 Axes>"
      ]
     },
     "metadata": {},
     "output_type": "display_data"
    }
   ],
   "source": [
    "\n",
    "sns.countplot(data=df,x='ExperienceInCurrentDomain',hue='Gender')"
   ]
  },
  {
   "cell_type": "code",
   "execution_count": 43,
   "id": "87973e4e",
   "metadata": {},
   "outputs": [
    {
     "data": {
      "application/vnd.microsoft.datawrangler.viewer.v0+json": {
       "columns": [
        {
         "name": "ExperienceInCurrentDomain",
         "rawType": "int64",
         "type": "integer"
        },
        {
         "name": "1",
         "rawType": "int64",
         "type": "integer"
        },
        {
         "name": "2",
         "rawType": "int64",
         "type": "integer"
        },
        {
         "name": "3",
         "rawType": "int64",
         "type": "integer"
        }
       ],
       "ref": "7cb80525-c763-466e-9126-4cc22bc91786",
       "rows": [
        [
         "0",
         "23",
         "56",
         "208"
        ],
        [
         "1",
         "35",
         "75",
         "323"
        ],
        [
         "2",
         "48",
         "167",
         "466"
        ],
        [
         "3",
         "37",
         "92",
         "322"
        ],
        [
         "4",
         "32",
         "91",
         "302"
        ],
        [
         "5",
         "41",
         "87",
         "342"
        ],
        [
         "6",
         "1",
         "1",
         "6"
        ],
        [
         "7",
         "1",
         "1",
         "7"
        ]
       ],
       "shape": {
        "columns": 3,
        "rows": 8
       }
      },
      "text/html": [
       "<div>\n",
       "<style scoped>\n",
       "    .dataframe tbody tr th:only-of-type {\n",
       "        vertical-align: middle;\n",
       "    }\n",
       "\n",
       "    .dataframe tbody tr th {\n",
       "        vertical-align: top;\n",
       "    }\n",
       "\n",
       "    .dataframe thead th {\n",
       "        text-align: right;\n",
       "    }\n",
       "</style>\n",
       "<table border=\"1\" class=\"dataframe\">\n",
       "  <thead>\n",
       "    <tr style=\"text-align: right;\">\n",
       "      <th>PaymentTier</th>\n",
       "      <th>1</th>\n",
       "      <th>2</th>\n",
       "      <th>3</th>\n",
       "    </tr>\n",
       "    <tr>\n",
       "      <th>ExperienceInCurrentDomain</th>\n",
       "      <th></th>\n",
       "      <th></th>\n",
       "      <th></th>\n",
       "    </tr>\n",
       "  </thead>\n",
       "  <tbody>\n",
       "    <tr>\n",
       "      <th>0</th>\n",
       "      <td>23</td>\n",
       "      <td>56</td>\n",
       "      <td>208</td>\n",
       "    </tr>\n",
       "    <tr>\n",
       "      <th>1</th>\n",
       "      <td>35</td>\n",
       "      <td>75</td>\n",
       "      <td>323</td>\n",
       "    </tr>\n",
       "    <tr>\n",
       "      <th>2</th>\n",
       "      <td>48</td>\n",
       "      <td>167</td>\n",
       "      <td>466</td>\n",
       "    </tr>\n",
       "    <tr>\n",
       "      <th>3</th>\n",
       "      <td>37</td>\n",
       "      <td>92</td>\n",
       "      <td>322</td>\n",
       "    </tr>\n",
       "    <tr>\n",
       "      <th>4</th>\n",
       "      <td>32</td>\n",
       "      <td>91</td>\n",
       "      <td>302</td>\n",
       "    </tr>\n",
       "    <tr>\n",
       "      <th>5</th>\n",
       "      <td>41</td>\n",
       "      <td>87</td>\n",
       "      <td>342</td>\n",
       "    </tr>\n",
       "    <tr>\n",
       "      <th>6</th>\n",
       "      <td>1</td>\n",
       "      <td>1</td>\n",
       "      <td>6</td>\n",
       "    </tr>\n",
       "    <tr>\n",
       "      <th>7</th>\n",
       "      <td>1</td>\n",
       "      <td>1</td>\n",
       "      <td>7</td>\n",
       "    </tr>\n",
       "  </tbody>\n",
       "</table>\n",
       "</div>"
      ],
      "text/plain": [
       "PaymentTier                 1    2    3\n",
       "ExperienceInCurrentDomain              \n",
       "0                          23   56  208\n",
       "1                          35   75  323\n",
       "2                          48  167  466\n",
       "3                          37   92  322\n",
       "4                          32   91  302\n",
       "5                          41   87  342\n",
       "6                           1    1    6\n",
       "7                           1    1    7"
      ]
     },
     "execution_count": 43,
     "metadata": {},
     "output_type": "execute_result"
    }
   ],
   "source": [
    "pd.crosstab(df.ExperienceInCurrentDomain,df.PaymentTier)"
   ]
  },
  {
   "cell_type": "code",
   "execution_count": 44,
   "id": "b76fcb15",
   "metadata": {},
   "outputs": [
    {
     "data": {
      "application/vnd.microsoft.datawrangler.viewer.v0+json": {
       "columns": [
        {
         "name": "ExperienceInCurrentDomain",
         "rawType": "int64",
         "type": "integer"
        },
        {
         "name": "count",
         "rawType": "int64",
         "type": "integer"
        }
       ],
       "ref": "57afbade-887d-4c83-b91a-2ecef0390877",
       "rows": [
        [
         "2",
         "681"
        ],
        [
         "5",
         "470"
        ],
        [
         "3",
         "451"
        ],
        [
         "1",
         "433"
        ],
        [
         "4",
         "425"
        ],
        [
         "0",
         "287"
        ],
        [
         "7",
         "9"
        ],
        [
         "6",
         "8"
        ]
       ],
       "shape": {
        "columns": 1,
        "rows": 8
       }
      },
      "text/plain": [
       "ExperienceInCurrentDomain\n",
       "2    681\n",
       "5    470\n",
       "3    451\n",
       "1    433\n",
       "4    425\n",
       "0    287\n",
       "7      9\n",
       "6      8\n",
       "Name: count, dtype: int64"
      ]
     },
     "execution_count": 44,
     "metadata": {},
     "output_type": "execute_result"
    }
   ],
   "source": [
    "df.ExperienceInCurrentDomain.value_counts()"
   ]
  },
  {
   "cell_type": "code",
   "execution_count": 45,
   "id": "4b233f5c",
   "metadata": {},
   "outputs": [
    {
     "data": {
      "text/plain": [
       "<Axes: xlabel='ExperienceInCurrentDomain', ylabel='count'>"
      ]
     },
     "execution_count": 45,
     "metadata": {},
     "output_type": "execute_result"
    },
    {
     "data": {
      "image/png": "[encoded data removed]",
      "text/plain": [
       "<Figure size 640x480 with 1 Axes>"
      ]
     },
     "metadata": {},
     "output_type": "display_data"
    }
   ],
   "source": [
    "\n",
    "sns.countplot(data=df,x='ExperienceInCurrentDomain',hue='PaymentTier')"
   ]
  },
  {
   "cell_type": "code",
   "execution_count": 46,
   "id": "0ea812e4",
   "metadata": {},
   "outputs": [
    {
     "data": {
      "text/plain": [
       "<seaborn.axisgrid.FacetGrid at 0x122834550>"
      ]
     },
     "execution_count": 46,
     "metadata": {},
     "output_type": "execute_result"
    },
    {
     "data": {
      "image/png": "[encoded data removed]",
      "text/plain": [
       "<Figure size 511.111x500 with 1 Axes>"
      ]
     },
     "metadata": {},
     "output_type": "display_data"
    }
   ],
   "source": [
    "sns.catplot(data=df,x='Gender',y='ExperienceInCurrentDomain',kind='box')"
   ]
  },
  {
   "cell_type": "code",
   "execution_count": 47,
   "id": "6e64fece",
   "metadata": {},
   "outputs": [
    {
     "data": {
      "text/plain": [
       "<seaborn.axisgrid.FacetGrid at 0x122cbd580>"
      ]
     },
     "execution_count": 47,
     "metadata": {},
     "output_type": "execute_result"
    },
    {
     "data": {
      "image/png": "[encoded data removed]",
      "text/plain": [
       "<Figure size 511.111x500 with 1 Axes>"
      ]
     },
     "metadata": {},
     "output_type": "display_data"
    }
   ],
   "source": [
    "sns.catplot(data=df,x='Gender',y='Age',kind='box')"
   ]
  },
  {
   "cell_type": "code",
   "execution_count": 48,
   "id": "27f956a1",
   "metadata": {},
   "outputs": [
    {
     "data": {
      "application/vnd.microsoft.datawrangler.viewer.v0+json": {
       "columns": [
        {
         "name": "LeaveOrNot",
         "rawType": "int64",
         "type": "integer"
        },
        {
         "name": "count",
         "rawType": "int64",
         "type": "integer"
        }
       ],
       "ref": "c637720a-35af-496c-a4da-d9d4b75c0992",
       "rows": [
        [
         "0",
         "1676"
        ],
        [
         "1",
         "1088"
        ]
       ],
       "shape": {
        "columns": 1,
        "rows": 2
       }
      },
      "text/plain": [
       "LeaveOrNot\n",
       "0    1676\n",
       "1    1088\n",
       "Name: count, dtype: int64"
      ]
     },
     "execution_count": 48,
     "metadata": {},
     "output_type": "execute_result"
    }
   ],
   "source": [
    "df.LeaveOrNot.value_counts()"
   ]
  },
  {
   "cell_type": "code",
   "execution_count": 49,
   "id": "52430f0f",
   "metadata": {},
   "outputs": [
    {
     "data": {
      "application/vnd.microsoft.datawrangler.viewer.v0+json": {
       "columns": [
        {
         "name": "('Gender', 'EverBenched')",
         "rawType": "object",
         "type": "unknown"
        },
        {
         "name": "0",
         "rawType": "int64",
         "type": "integer"
        },
        {
         "name": "1",
         "rawType": "int64",
         "type": "integer"
        }
       ],
       "ref": "3ba1aff1-dba7-440b-8979-b0a6c0f6281e",
       "rows": [
        [
         "('Female', 'No')",
         "558",
         "540"
        ],
        [
         "('Female', 'Yes')",
         "63",
         "74"
        ],
        [
         "('Male', 'No')",
         "916",
         "389"
        ],
        [
         "('Male', 'Yes')",
         "139",
         "85"
        ]
       ],
       "shape": {
        "columns": 2,
        "rows": 4
       }
      },
      "text/html": [
       "<div>\n",
       "<style scoped>\n",
       "    .dataframe tbody tr th:only-of-type {\n",
       "        vertical-align: middle;\n",
       "    }\n",
       "\n",
       "    .dataframe tbody tr th {\n",
       "        vertical-align: top;\n",
       "    }\n",
       "\n",
       "    .dataframe thead th {\n",
       "        text-align: right;\n",
       "    }\n",
       "</style>\n",
       "<table border=\"1\" class=\"dataframe\">\n",
       "  <thead>\n",
       "    <tr style=\"text-align: right;\">\n",
       "      <th></th>\n",
       "      <th>LeaveOrNot</th>\n",
       "      <th>0</th>\n",
       "      <th>1</th>\n",
       "    </tr>\n",
       "    <tr>\n",
       "      <th>Gender</th>\n",
       "      <th>EverBenched</th>\n",
       "      <th></th>\n",
       "      <th></th>\n",
       "    </tr>\n",
       "  </thead>\n",
       "  <tbody>\n",
       "    <tr>\n",
       "      <th rowspan=\"2\" valign=\"top\">Female</th>\n",
       "      <th>No</th>\n",
       "      <td>558</td>\n",
       "      <td>540</td>\n",
       "    </tr>\n",
       "    <tr>\n",
       "      <th>Yes</th>\n",
       "      <td>63</td>\n",
       "      <td>74</td>\n",
       "    </tr>\n",
       "    <tr>\n",
       "      <th rowspan=\"2\" valign=\"top\">Male</th>\n",
       "      <th>No</th>\n",
       "      <td>916</td>\n",
       "      <td>389</td>\n",
       "    </tr>\n",
       "    <tr>\n",
       "      <th>Yes</th>\n",
       "      <td>139</td>\n",
       "      <td>85</td>\n",
       "    </tr>\n",
       "  </tbody>\n",
       "</table>\n",
       "</div>"
      ],
      "text/plain": [
       "LeaveOrNot            0    1\n",
       "Gender EverBenched          \n",
       "Female No           558  540\n",
       "       Yes           63   74\n",
       "Male   No           916  389\n",
       "       Yes          139   85"
      ]
     },
     "execution_count": 49,
     "metadata": {},
     "output_type": "execute_result"
    }
   ],
   "source": [
    "x=pd.crosstab([df.Gender,df.EverBenched],df.LeaveOrNot)\n",
    "x"
   ]
  },
  {
   "cell_type": "code",
   "execution_count": 50,
   "id": "16347794",
   "metadata": {},
   "outputs": [
    {
     "data": {
      "image/png": "[encoded data removed]",
      "text/plain": [
       "<Figure size 640x480 with 1 Axes>"
      ]
     },
     "metadata": {},
     "output_type": "display_data"
    }
   ],
   "source": [
    "x.plot(kind='bar', stacked=True)\n",
    "plt.title('Stacked Bar Plot of Gender, EverBenched, and LeaveOrNot')\n",
    "plt.xlabel('(Gender, EverBenched)')\n",
    "plt.ylabel('Count')\n",
    "plt.xticks(rotation=45)  # Rotate x-axis labels for better readability\n",
    "\n",
    "# Show the plot\n",
    "plt.show()"
   ]
  },
  {
   "cell_type": "code",
   "execution_count": null,
   "id": "3fbbc9fa",
   "metadata": {},
   "outputs": [
    {
     "ename": "NameError",
     "evalue": "name 'LabelEncoder' is not defined",
     "output_type": "error",
     "traceback": [
      "\u001b[0;31m---------------------------------------------------------------------------\u001b[0m",
      "\u001b[0;31mNameError\u001b[0m                                 Traceback (most recent call last)",
      "Cell \u001b[0;32mIn[51], line 1\u001b[0m\n\u001b[0;32m----> 1\u001b[0m le\u001b[38;5;241m=\u001b[39m\u001b[43mLabelEncoder\u001b[49m()\n\u001b[1;32m      2\u001b[0m df[\u001b[38;5;124m\"\u001b[39m\u001b[38;5;124mEducation\u001b[39m\u001b[38;5;124m\"\u001b[39m]\u001b[38;5;241m=\u001b[39mle\u001b[38;5;241m.\u001b[39mfit_transform(df[\u001b[38;5;124m\"\u001b[39m\u001b[38;5;124mEducation\u001b[39m\u001b[38;5;124m\"\u001b[39m])\n\u001b[1;32m      3\u001b[0m df[\u001b[38;5;124m\"\u001b[39m\u001b[38;5;124mCity\u001b[39m\u001b[38;5;124m\"\u001b[39m]\u001b[38;5;241m=\u001b[39mle\u001b[38;5;241m.\u001b[39mfit_transform(df[\u001b[38;5;124m\"\u001b[39m\u001b[38;5;124mCity\u001b[39m\u001b[38;5;124m\"\u001b[39m])\n",
      "\u001b[0;31mNameError\u001b[0m: name 'LabelEncoder' is not defined"
     ]
    }
   ],
   "source": []
  },
  {
   "cell_type": "code",
   "execution_count": null,
   "id": "c177d6ed",
   "metadata": {},
   "outputs": [],
   "source": []
  }
 ],
 "metadata": {
  "kernelspec": {
   "display_name": "base",
   "language": "python",
   "name": "python3"
  },
  "language_info": {
   "codemirror_mode": {
    "name": "ipython",
    "version": 3
   },
   "file_extension": ".py",
   "mimetype": "text/x-python",
   "name": "python",
   "nbconvert_exporter": "python",
   "pygments_lexer": "ipython3",
   "version": "3.9.19"
  }
 },
 "nbformat": 4,
 "nbformat_minor": 5
}
